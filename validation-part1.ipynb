{
 "cells": [
  {
   "cell_type": "markdown",
   "metadata": {},
   "source": [
    "# Retrieve research results (validation)"
   ]
  },
  {
   "cell_type": "markdown",
   "metadata": {},
   "source": [
    "To inspect the reported research results you must install the following julia packages:\n",
    "**JLD**, **PGFPlotsX**, **Plots**, **LaTeXStrings**, **CSV**, **DataFrames**\n",
    "\n",
    "Notational conventions: prefixes **m** and **v** denote mean and variance of the random variables respectively.\n",
    "\n",
    "For a sake of brevity, throughout the code we use $x$ and $z$ instead of $x^{(1)}$ and $x^{(2)}$ respectively."
   ]
  },
  {
   "cell_type": "code",
   "execution_count": 1,
   "metadata": {},
   "outputs": [
    {
     "name": "stderr",
     "output_type": "stream",
     "text": [
      "┌ Warning: backend `PGFPlotsX` is not installed.\n",
      "└ @ Plots C:\\Users\\mkpap\\.julia\\packages\\Plots\\sxUvK\\src\\backends.jl:43\n"
     ]
    }
   ],
   "source": [
    "using JLD, Plots, PGFPlotsX, SparseArrays, CSV, DataFrames, LaTeXStrings\n",
    "pgfplotsx()\n",
    "push!(PGFPlotsX.CUSTOM_PREAMBLE, raw\"\\usepgfplotslibrary{fillbetween}\")\n",
    "\n",
    "# df = CSV.File(\"data/AAPL.csv\") |> DataFrame\n",
    "# AAPL_stocks = df[!, :Open];\n",
    "df = CSV.File(\"data/capr_prl_one_subject.csv\") |> DataFrame\n",
    "capr_one_subject = df[!, :reward_tally];"
   ]
  },
  {
   "cell_type": "code",
   "execution_count": 2,
   "metadata": {},
   "outputs": [],
   "source": [
    "shgf3l_results = JLD.load(\"dump/results_3shgf_stocks_mixture.jld\")\n",
    "shgf2l_results = JLD.load(\"dump/results_2shgf_stocks_mixture.jld\")\n",
    "shgf2l3c_results = JLD.load(\"dump/results_2l3cshgf_stocks_mixture.jld\")\n",
    "hgf2l_results  = JLD.load(\"dump/results_hgf_stocks_mixture.jld\");"
   ]
  },
  {
   "cell_type": "code",
   "execution_count": null,
   "metadata": {},
   "outputs": [],
   "source": [
    "fe_shgf3l = shgf3l_results[\"results\"][\"fe\"][2:end]\n",
    "fe_shgf2l = shgf2l_results[\"results\"][\"fe\"][2:end]\n",
    "fe_shgf2l3c = shgf2l3c_results[\"results\"][\"fe\"][2:end]\n",
    "fe_hgf2l  = hgf2l_results[\"results\"][\"fe\"][2:end]\n",
    "\n",
    "fe_max_iter = 40\n",
    "free_energy_axis = @pgf Axis({xlabel=\"iteration\",\n",
    "           ylabel=\"free-enery [nats]\",\n",
    "           legend_pos = \"north east\",\n",
    "           grid = \"major\",\n",
    "           mark_options = {scale=0.3}, xmin=-5.0, xmax=45,\n",
    "    },\n",
    "    Plot({mark = \"square*\", \"blue\"},Coordinates(collect(1:fe_max_iter),fe_shgf3l[1:fe_max_iter])),\n",
    "    LegendEntry(\"3L-SHGF-2\"),\n",
    "    Plot({mark = \"triangle*\", \"red\"},Coordinates(collect(1:fe_max_iter),fe_shgf2l[1:fe_max_iter])),\n",
    "    LegendEntry(\"2L-SHGF-2\"),\n",
    "    Plot({mark = \"square\", \"green\"},Coordinates(collect(1:fe_max_iter),fe_shgf2l3c[1:fe_max_iter])),\n",
    "    LegendEntry(\"2L-SHGF-3\"),\n",
    "    Plot({mark = \"o\", \"black\"},Coordinates(collect(1:fe_max_iter),fe_hgf2l[1:fe_max_iter])),\n",
    "    LegendEntry(\"2L-HGF\"),\n",
    ")\n",
    "pgfsave(\"figures/validation_results_free_energy.tikz\", free_energy_axis)"
   ]
  },
  {
   "cell_type": "code",
   "execution_count": null,
   "metadata": {},
   "outputs": [],
   "source": [
    "mz_shgf3l = shgf3l_results[\"results\"][\"mz1\"]\n",
    "mz_shgf2l = shgf2l_results[\"results\"][\"mz\"]\n",
    "mz_shgf2l3c = shgf2l3c_results[\"results\"][\"mz\"]\n",
    "mz_hgf2l  = hgf2l_results[\"results\"][\"mz\"]\n",
    "vz_shgf3l = shgf3l_results[\"results\"][\"vz1\"]\n",
    "vz_shgf2l = shgf2l_results[\"results\"][\"vz\"]\n",
    "vz_shgf2l3c = shgf2l3c_results[\"results\"][\"vz\"]\n",
    "vz_hgf2l  = hgf2l_results[\"results\"][\"vz\"]\n",
    "n_samples = length(AAPL_stocks)\n",
    "axis3 = @pgf Axis({xlabel=L\"t\",\n",
    "           ylabel=L\"x_t^{(2)}\",\n",
    "        legend_pos = \"north west\",\n",
    "        mark_options = {scale=0.3},\n",
    "        grid=\"major\",\n",
    "        style = {thick}\n",
    "    },\n",
    "    \n",
    "    Plot({no_marks,color=\"blue\"},Coordinates(collect(1:n_samples), mz_shgf3l)),\n",
    "    LegendEntry(\"3L-SHGF-2\"),\n",
    "    Plot({no_marks,color=\"red\"}, Coordinates(collect(1:n_samples), mz_shgf2l)),\n",
    "    LegendEntry(\"2L-SHGF-2\"),\n",
    "    Plot({no_marks,color=\"green\"},Coordinates(collect(1:n_samples), mz_shgf2l3c)),\n",
    "    LegendEntry(\"2L-SHGF-3\"),\n",
    "    Plot({no_marks,color=\"black\"},Coordinates(collect(1:n_samples), mz_hgf2l)),\n",
    "    LegendEntry(\"2L-HGF\"),\n",
    "    \n",
    "    Plot({ \"name path=f1\", no_marks,color=\"blue\",opacity=0.2 }, Coordinates(collect(1:n_samples), mz_shgf3l .+  sqrt.(vz_shgf3l))),\n",
    "    Plot({ \"name path=g1\", no_marks, color=\"blue\",opacity=0.2}, Coordinates(collect(1:n_samples), mz_shgf3l .-  sqrt.(vz_shgf3l))),\n",
    "    Plot({ thick, color = \"blue\", fill = \"blue\", opacity = 0.2 },\n",
    "              raw\"fill between [of=f1 and g1]\"),\n",
    "    \n",
    "    Plot({ \"name path=f2\", no_marks,color=\"red\",opacity=0.2 }, Coordinates(collect(1:n_samples), mz_shgf2l .+  sqrt.(vz_shgf2l))),\n",
    "    Plot({ \"name path=g2\", no_marks, color=\"red\",opacity=0.2}, Coordinates(collect(1:n_samples), mz_shgf2l .-  sqrt.(vz_shgf2l))),\n",
    "    Plot({ thick, color = \"blue\", fill = \"red\", opacity = 0.2 },\n",
    "               raw\"fill between [of=f2 and g2]\"),\n",
    "    \n",
    "    \n",
    "    Plot({ \"name path=f3\", no_marks,color=\"green\",opacity=0.2 }, Coordinates(collect(1:n_samples), mz_shgf2l3c .+  sqrt.(vz_shgf2l3c))),\n",
    "    Plot({ \"name path=g3\", no_marks, color=\"green\",opacity=0.2}, Coordinates(collect(1:n_samples), mz_shgf2l3c .-  sqrt.(vz_shgf2l3c))),\n",
    "    Plot({ thick, color = \"green\", fill = \"green\", opacity = 0.2 },\n",
    "               raw\"fill between [of=f3 and g3]\"),\n",
    "    \n",
    "   \n",
    "    Plot({ \"name path=f4\", no_marks,color=\"black\",opacity=0.2 }, Coordinates(collect(1:n_samples), mz_hgf2l .+  sqrt.(vz_hgf2l))),\n",
    "    Plot({ \"name path=g4\", no_marks, color=\"black\",opacity=0.2}, Coordinates(collect(1:n_samples), mz_hgf2l .-  sqrt.(vz_hgf2l))),\n",
    "    Plot({ thick, color = \"blue\", fill = \"black\", opacity = 0.2 },\n",
    "            raw\"fill between [of=f4 and g4]\"),\n",
    ")\n",
    "\n",
    "pgfsave(\"figures/validation_results_vol.tikz\", axis3)"
   ]
  },
  {
   "cell_type": "code",
   "execution_count": null,
   "metadata": {},
   "outputs": [],
   "source": [
    "mx_shgf3l = [\"mx1\"]\n",
    "mx_shgf2l = shgf2l_results[\"results\"][\"mx\"]\n",
    "mx_hgf2l  = hgf2l_results[\"results\"][\"mx\"]\n",
    "vx_shgf3l = shgf3l_results[\"results\"][\"vx\"]\n",
    "vx_shgf2l = shgf2l_results[\"results\"][\"vx\"]\n",
    "vx_hgf2l  = hgf2l_results[\"results\"][\"vx\"];"
   ]
  },
  {
   "cell_type": "code",
   "execution_count": null,
   "metadata": {},
   "outputs": [],
   "source": [
    "ms = shgf2l_results[\"results\"][\"ms\"]\n",
    "categories = [x[2] for x in findmax.(ms)]\n",
    "maxup = maximum(AAPL_stocks) + 3.0\n",
    "mindown = minimum(AAPL_stocks) - 3.0\n",
    "axis4 = @pgf Axis({xlabel=L\"t\",\n",
    "           ylabel=L\"x_t^{(1)}\",\n",
    "        legend_pos = \"north west\",\n",
    "        mark_options = {scale=0.3},\n",
    "        grid=\"major\",\n",
    "        style = {thick}\n",
    "    },\n",
    "    Plot({no_marks,color=\"magenta\"},Coordinates(collect(1:n_samples), mx_shgf2l)),\n",
    "    LegendEntry(\"2L-SHGF\"),\n",
    "    Plot({ \"name path=f\", no_marks,color=\"magenta\",opacity=0.2 }, Coordinates(collect(1:n_samples), mx_shgf2l .+  3*sqrt.(vx_shgf2l))),\n",
    "    Plot({ \"name path=g\", no_marks, color=\"magenta\",opacity=0.2}, Coordinates(collect(1:n_samples), mx_shgf2l .-  3*sqrt.(vx_shgf2l))),\n",
    "    Plot({ thick, color = \"magenta\", fill = \"magenta\", opacity = 0.2 },\n",
    "               raw\"fill between [of=f and g]\"),\n",
    "    Plot({only_marks,color=\"black\",opacity=0.3}, Coordinates(collect(1:n_samples),AAPL_stocks)),\n",
    "    Plot(\n",
    "       {only_marks, scatter, scatter_src = \"explicit\"},\n",
    "       Table(\n",
    "           {x = \"x\", y = \"y\", meta = \"col\"},\n",
    "            x = collect(1:n_samples), y = mindown*ones(n_samples), col = categories\n",
    "       ),\n",
    "    ),\n",
    ")\n",
    "\n",
    "#pgfsave(\"figures/validation_prices2.tikz\", axis4)"
   ]
  },
  {
   "cell_type": "code",
   "execution_count": null,
   "metadata": {},
   "outputs": [],
   "source": [
    "mω = shgf3l_results[\"results\"][\"mω2\"]"
   ]
  }
 ],
 "metadata": {
  "kernelspec": {
   "display_name": "Julia 1.9.3",
   "language": "julia",
   "name": "julia-1.9"
  },
  "language_info": {
   "file_extension": ".jl",
   "mimetype": "application/julia",
   "name": "julia",
   "version": "1.9.3"
  }
 },
 "nbformat": 4,
 "nbformat_minor": 4
}
