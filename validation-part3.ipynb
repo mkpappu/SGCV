{
 "cells": [
  {
   "cell_type": "markdown",
   "metadata": {},
   "source": [
    "# Implemetation"
   ]
  },
  {
   "cell_type": "markdown",
   "metadata": {},
   "source": [
    "To run the inference, the following packages must be installed:\n",
    "**ForneyLab**, **ProgressMeter**, **CSV**, **DataFrames**"
   ]
  },
  {
   "cell_type": "code",
   "execution_count": null,
   "metadata": {},
   "outputs": [],
   "source": [
    "using ForneyLab\n",
    "include(\"sgcv/SGCV.jl\")\n",
    "using Main.SGCV\n",
    "include(\"gcv/GCV.jl\")\n",
    "using Main.GCV\n",
    "using Plots\n",
    "using SparseArrays\n",
    "using ProgressMeter\n",
    "include(\"compatibility.jl\") # resolves compatibility issues with ForneyLab"
   ]
  },
  {
   "cell_type": "code",
   "execution_count": null,
   "metadata": {},
   "outputs": [],
   "source": [
    "# Auxialry function for graph initializtion\n",
    "pad(sym::Symbol, t::Int) = sym*:_*Symbol(lpad(t,3,'0')) # Left-pads a number with zeros, converts it to symbol and appends to sym"
   ]
  },
  {
   "cell_type": "code",
   "execution_count": null,
   "metadata": {},
   "outputs": [],
   "source": [
    "using CSV, DataFrames\n",
    "# df = CSV.File(\"data/AAPL.csv\") |> DataFrame\n",
    "# series = df[!, :Open];\n",
    "# scatter(series, markershape=:xcross, markersize=1.5, markeralpha=0.5, background_color=:grey97, label=\"APPL\")\n",
    "df = CSV.File(\"data/capr_prl_one_subject.csv\") |> DataFrame\n",
    "series = df[!, :reward_tally];\n",
    "scatter(series, markershape=:xcross, markersize=1.5, markeralpha=0.5, background_color=:grey97, label=\"capr_prl_one_subject\")\n"
   ]
  },
  {
   "cell_type": "code",
   "execution_count": null,
   "metadata": {},
   "outputs": [],
   "source": [
    "shift = 0.5\n",
    "@gif for i in 1:length(series)\n",
    "    scatter(series[1:i], markershape=:xcross, markersize=1.5, markeralpha=0.5, xlim = (0, length(series)), ylim = (minimum(series)-shift, maximum(series)+shift), label=\"capr_prl_one_subject\", xlabel=:trial, ylabel=\"reward_tally\", background_color=:grey95)\n",
    "end every 1"
   ]
  },
  {
   "cell_type": "code",
   "execution_count": null,
   "metadata": {},
   "outputs": [],
   "source": [
    "using StatsPlots\n",
    "import Distributions\n",
    "normal = Distributions.Normal(0.0, 1.0)\n",
    "plot(normal, background_color=:transparent, foreground_color=:black, grid=false, ticks = false, legend=false, linewidth=5.0, color=:lightblue, framestyle = :origin)"
   ]
  },
  {
   "cell_type": "markdown",
   "metadata": {},
   "source": [
    "### 2-L SHGF"
   ]
  },
  {
   "cell_type": "code",
   "execution_count": null,
   "metadata": {},
   "outputs": [],
   "source": [
    "# Function for generating 2-L SHGF and message-passing (MP) algorithm\n",
    "function generate_mp_2l(ndim, n_samples)\n",
    "    fg = FactorGraph()\n",
    "    z = Vector{Variable}(undef, n_samples)\n",
    "    x = Vector{Variable}(undef, n_samples)\n",
    "    y = Vector{Variable}(undef, n_samples)\n",
    "    s = Vector{Variable}(undef, n_samples)\n",
    "    @RV A ~ Dirichlet(ones(ndim, ndim))\n",
    "    @RV ω ~ GaussianMeanPrecision(placeholder(:mω, dims=(ndim, )), placeholder(:wω, dims=(ndim, ndim)))\n",
    "    @RV [id=pad(:z,1)] z[1] ~ GaussianMeanPrecision(placeholder(:mz_prior1), placeholder(:wz_prior1))\n",
    "    @RV [id=pad(:x,1)] x[1] ~ GaussianMeanPrecision(placeholder(:mx_prior1), placeholder(:wx_prior1))\n",
    "    @RV [id=pad(:y,1)] y[1] ~ GaussianMeanPrecision(x[1], placeholder(:wy_prior1))\n",
    "    @RV [id=pad(:s,1)] s[1] ~ ForneyLab.Categorical(ones(ndim) ./ ndim)\n",
    "    placeholder(y[1], :y, index = 1)\n",
    "    for t in 2:n_samples\n",
    "        @RV [id=pad(:s,t)] s[t] ~ Transition(s[t-1], A)\n",
    "        @RV [id=pad(:z,t)] z[t] ~ GaussianMeanPrecision(z[t - 1], placeholder(pad(:wz_transition, t)))\n",
    "        @RV [id=pad(:x,t)] x[t] ~ SwitchingGaussianControlledVariance(x[t - 1], z[t],ones(ndim), ω,s[t])\n",
    "        @RV [id=pad(:y,t)] y[t] ~ GaussianMeanPrecision(x[t], placeholder(pad(:wy_transition, t)))\n",
    "        placeholder(y[t], :y, index = t)\n",
    "    end\n",
    "    q = PosteriorFactorization(x, z, ω, s, A, ids=[:X :Z :Ω :S :A])\n",
    "    algo = messagePassingAlgorithm(free_energy=true)\n",
    "    src_code = algorithmSourceCode(algo, free_energy=true);\n",
    "    return src_code\n",
    "end\n",
    "\n",
    "# Function for running MP-based inference for 2-L SHGF\n",
    "function mp_2l(obs;\n",
    "    ndims,\n",
    "    n_its = 100,\n",
    "    wy_prior1 = 1.0,\n",
    "    κ_m_prior = ones(ndims),\n",
    "    ω_m_prior = omegas,\n",
    "    κ_w_prior =  huge .* diageye(ndims),\n",
    "    ω_w_prior = 1.0 * diageye(ndims),\n",
    "    z_m_prior = 0.0,\n",
    "    z_w_prior = 1.0,\n",
    "    x_m_prior = 0.0,\n",
    "    x_w_prior = 1.0,\n",
    "    x_x_m_prior = zeros(ndims),\n",
    "    x_x_w_prior = 1.0*diageye(ndims),\n",
    "    z_z_m_prior = zeros(ndims),\n",
    "    z_z_w_prior = 1.0*diageye(ndims),\n",
    "    z_w_transition_prior = 100.0,\n",
    "    y_w_transition_prior =  1/mnv,\n",
    ")\n",
    "    n_samples = length(obs)\n",
    "    marginals = Dict()\n",
    "    marginals[:A] = ProbabilityDistribution(ForneyLab.MatrixVariate, Dirichlet, a=ones(ndims, ndims))\n",
    "    marginals[:κ] = ProbabilityDistribution(ForneyLab.Multivariate, GaussianMeanPrecision, m = κ_m_prior, w = κ_w_prior)\n",
    "    marginals[:ω] = ProbabilityDistribution(ForneyLab.Multivariate, GaussianMeanPrecision, m = ω_m_prior, w = ω_w_prior)\n",
    "    marginals[pad(:z,1)] = vague(GaussianMeanPrecision)\n",
    "    marginals[pad(:x,1)] = vague(GaussianMeanPrecision)\n",
    "    marginals[pad(:s,1)] = vague(Categorical, ndims)\n",
    "    for t = 2:n_samples\n",
    "        marginals[pad(:z,t)] = ProbabilityDistribution(ForneyLab.Univariate, GaussianMeanPrecision, m = z_m_prior, w = z_w_prior)\n",
    "        marginals[pad(:x,t)] = ProbabilityDistribution(ForneyLab.Univariate, GaussianMeanPrecision, m = x_m_prior, w = x_w_prior)\n",
    "        marginals[pad(:s,t)] = ProbabilityDistribution(Categorical, p = ones(ndims) ./ ndims)\n",
    "        marginals[pad(:s,t)*:_*pad(:s,t-1)] = ProbabilityDistribution(Contingency,p=ones(ndims, ndims) ./ ndims)\n",
    "        marginals[pad(:z,t)*:_*pad(:z,t-1)] = ProbabilityDistribution(ForneyLab.Multivariate,GaussianMeanPrecision, m = z_z_m_prior, w = z_z_w_prior)\n",
    "        marginals[pad(:x,t)*:_*pad(:x,t-1)] = ProbabilityDistribution(ForneyLab.Multivariate,GaussianMeanPrecision, m = x_x_m_prior, w = x_x_w_prior)\n",
    "    end\n",
    "    data = Dict()\n",
    "    data[:y] = obs\n",
    "    data[:mz_prior1] = z_m_prior\n",
    "    data[:wz_prior1] = z_w_prior\n",
    "    data[:mx_prior1] = x_m_prior\n",
    "    data[:wx_prior1] = x_w_prior\n",
    "    data[:wy_prior1] = wy_prior1\n",
    "    data[:mω] = ω_m_prior\n",
    "    data[:wω] = ω_w_prior\n",
    "    for t = 1:n_samples\n",
    "        data[pad(:wz_transition, t)] = z_w_transition_prior\n",
    "        data[pad(:wy_transition, t)] = y_w_transition_prior\n",
    "    end\n",
    "\n",
    "\n",
    "    fe = Vector{Float64}(undef, n_its)\n",
    "\n",
    "    @showprogress \"Iterations\" for i = 1:n_its\n",
    "\n",
    "        stepX!(data, marginals)\n",
    "        stepS!(data, marginals)\n",
    "        stepA!(data, marginals)\n",
    "        stepΩ!(data, marginals)\n",
    "        stepZ!(data, marginals)\n",
    "\n",
    "        fe[i] = freeEnergy(data, marginals)\n",
    "    end\n",
    "\n",
    "    mz = [ForneyLab.unsafeMean(marginals[pad(:z,t)]) for t=1:n_samples]\n",
    "    vz = [ForneyLab.unsafeVar(marginals[pad(:z,t)]) for t=1:n_samples]\n",
    "    mω = ForneyLab.unsafeMean(marginals[:ω])\n",
    "    vω = ForneyLab.unsafeCov(marginals[:ω])\n",
    "    mx = [ForneyLab.unsafeMean(marginals[pad(:x,t)]) for t=1:n_samples]\n",
    "    vx = [ForneyLab.unsafeVar(marginals[pad(:x,t)]) for t=1:n_samples]\n",
    "    ms = [ForneyLab.unsafeMean(marginals[pad(:s,t)]) for t=1:n_samples]\n",
    "    return mz,vz,mω, vω, mx,vx,ms,fe\n",
    "end"
   ]
  },
  {
   "cell_type": "code",
   "execution_count": null,
   "metadata": {},
   "outputs": [],
   "source": [
    "# Empirically selected prior [-8, 8]\n",
    "# og_priors from hgf: -2,2 and 1,1\n",
    "# Rosa's: 1,1 and 1,1\n",
    "# Praveen's: -2,-2 and 1,1\n",
    "omegas = [0, 3]"
   ]
  },
  {
   "cell_type": "code",
   "execution_count": null,
   "metadata": {},
   "outputs": [],
   "source": [
    "n_cats = length(omegas)\n",
    "code = generate_mp_2l(n_cats, length(series))\n",
    "eval(Meta.parse(code))"
   ]
  },
  {
   "cell_type": "code",
   "execution_count": null,
   "metadata": {},
   "outputs": [],
   "source": [
    "mz,vz,mω, vω, mx,vx,ms,fe = mp_2l(series, x_m_prior=series[1], ndims=n_cats, z_w_prior=100.0, z_z_w_prior=100.0*diageye(2), z_w_transition_prior=100.0, ω_m_prior=omegas, ω_w_prior=diageye(2), y_w_transition_prior=1e6)\n",
    "\n",
    "results =   Dict(\"mz\" => mz, \"vz\" => vz,\n",
    "                  \"mx\" => mx, \"vx\" => vx,\n",
    "                  \"ms\" => ms, \"fe\" => fe,\n",
    "                  \"mω\" => mω, \"vω\" => vω,\n",
    "                  \"ωprior\" => omegas)"
   ]
  },
  {
   "cell_type": "code",
   "execution_count": null,
   "metadata": {},
   "outputs": [],
   "source": [
    "mω"
   ]
  },
  {
   "cell_type": "code",
   "execution_count": null,
   "metadata": {},
   "outputs": [],
   "source": [
    "xlims_ = 1, length(series)\n",
    "switch_line = 52\n",
    "shift = 0.05\n",
    "scatter(series, background_color=:grey95, xlabel=:Day, ylabel=\"reward_tally\", label=\"capr_one_subject\", markershape=:xcross, markersize=2, markeralpha=1.0, color=:black)\n",
    "plot!(mx, ribbon=sqrt.(vx), label=false)\n",
    "scatter!(switch_line*ones(length(ms)), color=argmax.(ms), markersize=5.0, markeralpha=0.5, label=false)\n",
    "xlims!(xlims_)\n",
    "ylims!(mx[xlims_[1]]-shift, mx[xlims_[2]]+shift)"
   ]
  },
  {
   "cell_type": "code",
   "execution_count": null,
   "metadata": {},
   "outputs": [],
   "source": [
    "shift = 1.0\n",
    "plot(mz, ribbon=sqrt.(vz), label=false, xlim = (0, length(series)), ylim = (minimum(mz)-shift, maximum(mz)+shift) ,background_color=:grey95, xlabel=:Day)\n",
    "xlims!(xlims_)\n",
    "ylims!(mz[xlims_[1]]-shift, mz[xlims_[2]]+shift)"
   ]
  },
  {
   "cell_type": "code",
   "execution_count": null,
   "metadata": {},
   "outputs": [],
   "source": [
    "scatter(argmax.(ms), color=argmax.(ms), markersize=3.0, markeralpha=0.5)"
   ]
  },
  {
   "cell_type": "code",
   "execution_count": null,
   "metadata": {},
   "outputs": [],
   "source": [
    "shift = 10\n",
    "@gif for i in 1:length(series)\n",
    "    scatter(series[1:i], markershape=:xcross, markersize=1.5, markeralpha=0.5, xlim = (0, length(series)), ylim = (minimum(series)-shift, maximum(series)+shift), label=\"APPL\", xlabel=:Day, ylabel=\"Price \\$\", background_color=:grey95)\n",
    "    scatter!(50*ones(length(ms[1:i])), color=argmax.(ms[1:i]), markersize=5.0, markeralpha=0.5, label=false)    \n",
    "    plot!(mx[1:i], ribbon=sqrt.(vx[1:i]), label=false)\n",
    "end every 1"
   ]
  },
  {
   "cell_type": "code",
   "execution_count": null,
   "metadata": {},
   "outputs": [],
   "source": [
    "shift = 1\n",
    "@gif for i in 1:length(series)\n",
    "    plot(mz[1:i], ribbon=sqrt.(vz[1:i]), label=false, xlim = (0, length(series)), ylim = (minimum(mz)-shift, maximum(mz)+shift) ,background_color=:grey95, xlabel=:Day)\n",
    "end every 1"
   ]
  },
  {
   "cell_type": "code",
   "execution_count": null,
   "metadata": {},
   "outputs": [],
   "source": [
    "using JLD\n",
    "JLD.save(\"dump/results_2shgf_stocks_mixture.jld\",\"results\",results)"
   ]
  }
 ],
 "metadata": {
  "kernelspec": {
   "display_name": "Julia 1.9.3",
   "language": "julia",
   "name": "julia-1.9"
  },
  "language_info": {
   "file_extension": ".jl",
   "mimetype": "application/julia",
   "name": "julia",
   "version": "1.9.3"
  }
 },
 "nbformat": 4,
 "nbformat_minor": 4
}
