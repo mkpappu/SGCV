{
 "cells": [
  {
   "cell_type": "code",
   "execution_count": null,
   "id": "4b378077",
   "metadata": {},
   "outputs": [],
   "source": [
    "# Please restart kernel to use this snippet\n",
    "import Plots\n",
    "using JLD\n",
    "\n",
    "shgf3l_results = JLD.load(\"dump/results_3shgf_stocks_mixture.jld\")\n",
    "shgf2l_results = JLD.load(\"dump/results_2shgf_stocks_mixture.jld\")\n",
    "shgf2l3c_results = JLD.load(\"dump/results_2l3cshgf_stocks_mixture.jld\")\n",
    "hgf2l_results  = JLD.load(\"dump/results_hgf_stocks_mixture.jld\");\n",
    "\n",
    "fe_shgf3l = shgf3l_results[\"results\"][\"fe\"][2:end]\n",
    "fe_shgf2l = shgf2l_results[\"results\"][\"fe\"][2:end]\n",
    "fe_shgf2l3c = shgf2l3c_results[\"results\"][\"fe\"][2:end]\n",
    "fe_hgf2l  = hgf2l_results[\"results\"][\"fe\"][2:end]\n",
    "\n",
    "Plots.plot(fe_shgf3l, label=\"3L-SHGF\")\n",
    "Plots.plot!(fe_shgf2l, label=\"2L-SHGF\")\n",
    "Plots.plot!(fe_shgf2l3c, label=\"2L-SHGF, 3 cats\")\n",
    "Plots.plot!(fe_hgf2l, label=\"2L-HGF\", background_color=:grey95, ylabel=\"Free energy [nats]\", xlabel=\"iteration\")\n",
    "Plots.savefig(\"fe_comparison.png\")"
   ]
  },
  {
   "cell_type": "code",
   "execution_count": null,
   "id": "1c3b6258",
   "metadata": {},
   "outputs": [],
   "source": []
  }
 ],
 "metadata": {
  "kernelspec": {
   "display_name": "Julia 1.9.2",
   "language": "julia",
   "name": "julia-1.9"
  },
  "language_info": {
   "file_extension": ".jl",
   "mimetype": "application/julia",
   "name": "julia",
   "version": "1.9.2"
  }
 },
 "nbformat": 4,
 "nbformat_minor": 5
}
