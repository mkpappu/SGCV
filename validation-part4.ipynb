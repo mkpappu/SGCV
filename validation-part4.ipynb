{
 "cells": [
  {
   "cell_type": "code",
   "execution_count": 1,
   "metadata": {},
   "outputs": [
    {
     "data": {
      "text/plain": [
       "pad (generic function with 1 method)"
      ]
     },
     "metadata": {},
     "output_type": "display_data"
    }
   ],
   "source": [
    "using ForneyLab\n",
    "include(\"sgcv/SGCV.jl\")\n",
    "using Main.SGCV\n",
    "include(\"gcv/GCV.jl\")\n",
    "using Main.GCV\n",
    "using Plots\n",
    "using StatsPlots\n",
    "using SparseArrays\n",
    "using ProgressMeter\n",
    "include(\"compatibility.jl\") # resolves compatibility issues with ForneyLab\n",
    "\n",
    "# Auxialry function for graph initializtion\n",
    "pad(sym::Symbol, t::Int) = sym*:_*Symbol(lpad(t,3,'0')) # Left-pads a number with zeros, converts it to symbol and appends to sym"
   ]
  },
  {
   "cell_type": "code",
   "execution_count": 2,
   "metadata": {},
   "outputs": [],
   "source": [
    "# required data\n",
    "using CSV, DataFrames\n",
    "# df = CSV.File(\"data/AAPL.csv\") |> DataFrame\n",
    "# series = df[!, :Open];\n",
    "\n",
    "################################################################################################\n",
    "\n",
    "df = CSV.File(\"data/capr_prl_one_subject.csv\") |> DataFrame\n",
    "series = df[!, :reward_tally];"
   ]
  },
  {
   "cell_type": "markdown",
   "metadata": {},
   "source": [
    "### 3-L SHGF"
   ]
  },
  {
   "cell_type": "code",
   "execution_count": 3,
   "metadata": {},
   "outputs": [
    {
     "data": {
      "text/plain": [
       "mp_3l (generic function with 1 method)"
      ]
     },
     "metadata": {},
     "output_type": "display_data"
    }
   ],
   "source": [
    "# Function for generating 3-L SHGF and message-passing (MP) algorithm\n",
    "function generate_mp_3l(n_cats1, n_cats2, n_samples)\n",
    "    fg = FactorGraph()\n",
    "    z2 = Vector{Variable}(undef, n_samples)\n",
    "    s2 = Vector{Variable}(undef, n_samples)\n",
    "    z1 = Vector{Variable}(undef, n_samples)\n",
    "    s1 = Vector{Variable}(undef, n_samples)\n",
    "    x = Vector{Variable}(undef, n_samples)\n",
    "    y = Vector{Variable}(undef, n_samples)\n",
    "    @RV A2 ~ Dirichlet(ones(n_cats2, n_cats2))\n",
    "    @RV A1 ~ Dirichlet(ones(n_cats1, n_cats1))\n",
    "    @RV ω2 ~ GaussianMeanPrecision(placeholder(:mω2, dims=(n_cats2, )), placeholder(:wω2, dims=(n_cats2, n_cats2)))\n",
    "    @RV ω1 ~ GaussianMeanPrecision(placeholder(:mω1, dims=(n_cats1, )), placeholder(:wω1, dims=(n_cats1, n_cats1)))\n",
    "    @RV [id=pad(:z1,1)] z1[1] ~ GaussianMeanPrecision(placeholder(:mz1_prior1), placeholder(:wz1_prior1))\n",
    "    @RV [id=pad(:z2,1)] z2[1] ~ GaussianMeanPrecision(placeholder(:mz2_prior1), placeholder(:wz2_prior1))\n",
    "    @RV [id=pad(:x,1)] x[1] ~ GaussianMeanPrecision(placeholder(:mx_prior1), placeholder(:wx_prior1))\n",
    "    @RV [id=pad(:y,1)] y[1] ~ GaussianMeanPrecision(x[1], placeholder(:wy_prior1))\n",
    "    @RV [id=pad(:s1,1)] s1[1] ~ ForneyLab.Categorical(ones(n_cats1) ./ n_cats1)\n",
    "    @RV [id=pad(:s2,1)] s2[1] ~ ForneyLab.Categorical(ones(n_cats2) ./ n_cats2)\n",
    "    placeholder(y[1], :y, index = 1)\n",
    "    for t in 2:n_samples\n",
    "        @RV [id=pad(:s2, t)] s2[t] ~ Transition(s2[t-1], A2)\n",
    "        @RV [id=pad(:s1, t)] s1[t] ~ Transition(s1[t-1], A1)\n",
    "        @RV [id=pad(:z2,t)] z2[t] ~ GaussianMeanPrecision(z2[t - 1], placeholder(pad(:wz2_transition, t)))\n",
    "        @RV [id=pad(:z1,t)] z1[t] ~ SwitchingGaussianControlledVariance(z1[t - 1], z2[t], ones(n_cats2), ω2,s2[t])\n",
    "        @RV [id=pad(:x,t)] x[t] ~ SwitchingGaussianControlledVariance(x[t - 1], z1[t], ones(n_cats1), ω1,s1[t])\n",
    "        @RV [id=pad(:y,t)] y[t] ~ GaussianMeanPrecision(x[t], placeholder(pad(:wy_transition, t)))\n",
    "        placeholder(y[t], :y, index = t)\n",
    "    end\n",
    "    q = PosteriorFactorization(x, z1, s1, z2, s2, A1, A2, ω1, ω2, ids=[:X :Z1 :S1 :Z2 :S2 :A1 :A2 :Ω1 :Ω2])\n",
    "    algo = messagePassingAlgorithm(free_energy=true)\n",
    "    src_code = algorithmSourceCode(algo, free_energy=true);\n",
    "    return src_code\n",
    "end\n",
    "\n",
    "# Function for running MP-based inference for 3-L SHGF\n",
    "function mp_3l(obs;\n",
    "    n_cats1, n_cats2,\n",
    "    n_its = 20,\n",
    "    wy_prior1 = 1.0,\n",
    "    κ1_m_prior = ones(n_cats1),\n",
    "    ω1_m_prior = omegas1,\n",
    "    κ1_w_prior =  huge .* diageye(n_cats1),\n",
    "    ω1_w_prior = 1.0 * diageye(n_cats1),\n",
    "    z1_m_prior = 0.0,\n",
    "    z1_w_prior = 1.0,\n",
    "    κ2_m_prior = ones(n_cats2),\n",
    "    ω2_m_prior = omegas2,\n",
    "    κ2_w_prior =  huge .* diageye(n_cats2),\n",
    "    ω2_w_prior = 1.0 * diageye(n_cats2),\n",
    "    z2_m_prior = 0.0,\n",
    "    z2_w_prior = 1.0,\n",
    "    x_m_prior = 0.0,\n",
    "    x_w_prior = 1.0,\n",
    "    x_x_m_prior = zeros(n_cats1),\n",
    "    x_x_w_prior = 1.0*diageye(n_cats1),\n",
    "    z1_z1_m_prior = zeros(n_cats1),\n",
    "    z1_z1_w_prior = 1.0*diageye(n_cats1),\n",
    "    z1_w_transition_prior = 1000.0,\n",
    "    z2_z2_m_prior = zeros(n_cats2),\n",
    "    z2_z2_w_prior = 1.0*diageye(n_cats2),\n",
    "    z2_w_transition_prior = 10.0,\n",
    "    y_w_transition_prior =  1/mnv,\n",
    ")\n",
    "    n_samples = length(obs)\n",
    "    marginals = Dict()\n",
    "\n",
    "    # second  layer\n",
    "    marginals[:A1] = ProbabilityDistribution(ForneyLab.MatrixVariate, Dirichlet, a=ones(n_cats1, n_cats1))\n",
    "    marginals[:κ1] = ProbabilityDistribution(ForneyLab.Multivariate, GaussianMeanPrecision, m = κ1_m_prior, w = κ1_w_prior)\n",
    "    marginals[:ω1] = ProbabilityDistribution(ForneyLab.Multivariate, GaussianMeanPrecision, m = ω1_m_prior, w = ω1_w_prior)\n",
    "    marginals[pad(:z1,1)] = vague(GaussianMeanPrecision)\n",
    "\n",
    "    # third layer\n",
    "    marginals[:A2] = ProbabilityDistribution(ForneyLab.MatrixVariate, Dirichlet, a=ones(n_cats2, n_cats2))\n",
    "    marginals[:κ2] = ProbabilityDistribution(ForneyLab.Multivariate, GaussianMeanPrecision, m = κ2_m_prior, w = κ2_w_prior)\n",
    "    marginals[:ω2] = ProbabilityDistribution(ForneyLab.Multivariate, GaussianMeanPrecision, m = ω2_m_prior, w = ω2_w_prior)\n",
    "    marginals[pad(:z2,1)] = vague(GaussianMeanPrecision)\n",
    "\n",
    "    marginals[pad(:x,1)] = vague(GaussianMeanPrecision)\n",
    "    marginals[pad(:s1,1)] = vague(Categorical, n_cats1)\n",
    "    marginals[pad(:s2,1)] = vague(Categorical, n_cats2)\n",
    "    for t = 2:n_samples\n",
    "        marginals[pad(:z1,t)] = ProbabilityDistribution(ForneyLab.Univariate, GaussianMeanPrecision, m = z1_m_prior, w = z1_w_prior)\n",
    "        marginals[pad(:z2,t)] = ProbabilityDistribution(ForneyLab.Univariate, GaussianMeanPrecision, m = z2_m_prior, w = z2_w_prior)\n",
    "        marginals[pad(:x,t)] = ProbabilityDistribution(ForneyLab.Univariate, GaussianMeanPrecision, m = x_m_prior, w = x_w_prior)\n",
    "        marginals[pad(:s1,t)] = ProbabilityDistribution(Categorical, p = ones(n_cats1) ./ n_cats1)\n",
    "        marginals[pad(:s2,t)] = ProbabilityDistribution(Categorical, p = ones(n_cats2) ./ n_cats2)\n",
    "        marginals[pad(:s1,t)*:_*pad(:s1,t-1)] = ProbabilityDistribution(Contingency,p=ones(n_cats1, n_cats1) ./ n_cats1)\n",
    "        marginals[pad(:s2,t)*:_*pad(:s2,t-1)] = ProbabilityDistribution(Contingency,p=ones(n_cats2, n_cats2) ./ n_cats2)\n",
    "        marginals[pad(:z1,t)*:_*pad(:z1,t-1)] = ProbabilityDistribution(ForneyLab.Multivariate,GaussianMeanPrecision, m = z1_z1_m_prior, w = z2_z2_m_prior)\n",
    "        marginals[pad(:z2,t)*:_*pad(:z2,t-1)] = ProbabilityDistribution(ForneyLab.Multivariate,GaussianMeanPrecision, m = z2_z2_m_prior, w = z2_z2_w_prior)\n",
    "        marginals[pad(:x,t)*:_*pad(:x,t-1)] = ProbabilityDistribution(ForneyLab.Multivariate,GaussianMeanPrecision, m = x_x_m_prior, w = x_x_w_prior)\n",
    "    end\n",
    "    data = Dict()\n",
    "    data[:y] = obs\n",
    "    data[:mz1_prior1] = z1_m_prior\n",
    "    data[:wz1_prior1] = z1_w_prior\n",
    "    data[:mz2_prior1] = z2_m_prior\n",
    "    data[:wz2_prior1] = z2_w_prior\n",
    "    data[:mx_prior1] = x_m_prior\n",
    "    data[:wx_prior1] = x_w_prior\n",
    "    data[:wy_prior1] = wy_prior1\n",
    "    data[:mω1] = ω1_m_prior\n",
    "    data[:mω2] = ω2_m_prior\n",
    "    data[:wω1] = ω1_w_prior\n",
    "    data[:wω2] = ω2_w_prior\n",
    "    for t = 1:n_samples\n",
    "        data[pad(:wz1_transition, t)] = z1_w_transition_prior\n",
    "        data[pad(:wz2_transition, t)] = z2_w_transition_prior\n",
    "        data[pad(:wy_transition, t)] = y_w_transition_prior\n",
    "    end\n",
    "\n",
    "\n",
    "    fe = Vector{Float64}(undef, n_its)\n",
    "\n",
    "    @showprogress \"Iterations\" for i = 1:n_its\n",
    "\n",
    "        stepX!(data, marginals)\n",
    "        stepS1!(data, marginals)\n",
    "        stepA1!(data, marginals)\n",
    "        stepΩ1!(data, marginals)\n",
    "        stepZ1!(data, marginals)\n",
    "        stepS2!(data, marginals)\n",
    "        stepA2!(data, marginals)\n",
    "        stepΩ2!(data, marginals)\n",
    "        stepZ2!(data, marginals)\n",
    "\n",
    "        fe[i] = freeEnergy(data, marginals)\n",
    "    end\n",
    "\n",
    "    mz1 = [ForneyLab.unsafeMean(marginals[pad(:z1,t)]) for t=1:n_samples]\n",
    "    vz1 = [ForneyLab.unsafeVar(marginals[pad(:z1,t)]) for t=1:n_samples]\n",
    "    mω1 = ForneyLab.unsafeMean(marginals[:ω1])\n",
    "    vω1 = ForneyLab.unsafeCov(marginals[:ω1])\n",
    "    mz2 = [ForneyLab.unsafeMean(marginals[pad(:z2,t)]) for t=1:n_samples]\n",
    "    vz2 = [ForneyLab.unsafeVar(marginals[pad(:z2,t)]) for t=1:n_samples]\n",
    "    mω2 = ForneyLab.unsafeMean(marginals[:ω2])\n",
    "    vω2 = ForneyLab.unsafeCov(marginals[:ω2])\n",
    "    mx = [ForneyLab.unsafeMean(marginals[pad(:x,t)]) for t=1:n_samples]\n",
    "    vx = [ForneyLab.unsafeVar(marginals[pad(:x,t)]) for t=1:n_samples]\n",
    "    ms1 = [ForneyLab.unsafeMean(marginals[pad(:s1,t)]) for t=1:n_samples]\n",
    "    ms2 = [ForneyLab.unsafeMean(marginals[pad(:s2,t)]) for t=1:n_samples]\n",
    "    return mz1, vz1, mω1, vω1, mz2, vz2, mω2, vω2, mx, vx, ms1, ms2, fe\n",
    "end"
   ]
  },
  {
   "cell_type": "code",
   "execution_count": 4,
   "metadata": {},
   "outputs": [
    {
     "data": {
      "text/plain": [
       "2-element Vector{Float64}:\n",
       " -3.0\n",
       "  1.0"
      ]
     },
     "metadata": {},
     "output_type": "display_data"
    }
   ],
   "source": [
    "omegas1 = [-1.0, 4.0]\n",
    "omegas2 = [-3.0, 1.0]\n",
    "\n",
    "################################################################################################\n",
    "\n",
    "# need to select these for our own PRL data\n"
   ]
  },
  {
   "cell_type": "code",
   "execution_count": 5,
   "metadata": {},
   "outputs": [
    {
     "data": {
      "text/plain": [
       "freeEnergy (generic function with 1 method)"
      ]
     },
     "metadata": {},
     "output_type": "display_data"
    }
   ],
   "source": [
    "code = generate_mp_3l(2, 2, length(series))\n",
    "eval(Meta.parse(code))"
   ]
  },
  {
   "cell_type": "code",
   "execution_count": 6,
   "metadata": {},
   "outputs": [],
   "source": [
    "mz1, vz1, mω1, vω1, mz2, vz2, mω2, vω2, mx1, vx1, ms1, ms2, fe2 = mp_3l(series, n_its = 100, n_cats1=2, n_cats2=2,\n",
    "                                                                        x_m_prior=series[1],\n",
    "                                                                        ω1_m_prior=omegas1, ω2_m_prior=omegas2,\n",
    "                                                                        ω1_w_prior = 1.0 * diageye(2),\n",
    "                                                                        ω2_w_prior = 10.0 * diageye(2),\n",
    "                                                                        z1_w_transition_prior = 100.0,\n",
    "                                                                        z1_w_prior = 100.0,\n",
    "                                                                        z2_w_prior = 100.0,\n",
    "                                                                        y_w_transition_prior=1.0)\n",
    "\n",
    "results =   Dict(\"mz1\" => mz1, \"vz1\" => vz1,\n",
    "                 \"mz2\" => mz2, \"vz2\" => vz2,\n",
    "                 \"mx1\" => mx1, \"vx\" => vx1,\n",
    "                 \"ms1\" => ms1, \"ms2\" => ms2,\n",
    "                 \"fe\" => fe2,\n",
    "                 \"mω1\" => mω1, \"vω1\" => vω1,\n",
    "                 \"mω2\" => mω2, \"vω2\" => vω2,\n",
    "                 \"ωprior1\" => omegas1,\n",
    "                 \"ωprior2\" => omegas2)"
   ]
  },
  {
   "cell_type": "code",
   "execution_count": null,
   "metadata": {},
   "outputs": [],
   "source": [
    "# xlims_ = 1, length(series)\n",
    "# switch_line = 52\n",
    "# shift = 0.1\n",
    "# scatter(series, background_color=:grey95, xlabel=:Day, ylabel=\"Price \\$\", label=\"APPL\", markershape=:xcross, markersize=2, markeralpha=1.0, color=:black)\n",
    "# plot!(mx1, ribbon=sqrt.(vx1), label=false)\n",
    "# scatter!(switch_line*ones(length(ms1)), color=argmax.(ms1), markersize=5.0, markeralpha=0.5, label=false)\n",
    "# xlims!(xlims_)\n",
    "# ylims!(mx1[xlims_[1]]-shift, mx1[xlims_[2]]+shift)\n",
    "\n",
    "################################################################################################\n",
    "\n",
    "# might need to change switch_line? is it 52 because there are 52 datapoints for the APPL stock data? 11/10/23\n",
    "\n",
    "xlims_ = 1, length(series)\n",
    "switch_line = 52\n",
    "shift = 0.1\n",
    "scatter(series, background_color=:grey95, xlabel=:Day, ylabel=\"reward_tally\", label=\"capr_one_subject\", markershape=:xcross, markersize=2, markeralpha=1.0, color=:black)\n",
    "plot!(mx1, ribbon=sqrt.(vx1), label=false)\n",
    "scatter!(switch_line*ones(length(ms1)), color=argmax.(ms1), markersize=5.0, markeralpha=0.5, label=false)\n",
    "xlims!(xlims_)\n",
    "ylims!(mx1[xlims_[1]]-shift, mx1[xlims_[2]]+shift)"
   ]
  },
  {
   "cell_type": "code",
   "execution_count": null,
   "metadata": {},
   "outputs": [],
   "source": [
    "# using JLD\n",
    "# JLD.save(\"dump/results_3shgf_stocks_mixture.jld\",\"results\",results)"
   ]
  },
  {
   "cell_type": "code",
   "execution_count": null,
   "metadata": {},
   "outputs": [],
   "source": [
    "# xlims_ = 1, length(series)\n",
    "# switch_line = 52\n",
    "# shift = 30.0\n",
    "# scatter(series, background_color=:grey95, xlabel=:Day, ylabel=\"Price $\", label=\"APPL\", markershape=:xcross, markersize=2, markeralpha=1.0, color=:black)\n",
    "# plot!(mx1, ribbon=sqrt.(vx1), label=false)\n",
    "# scatter!(switch_line*ones(length(ms1)), color=argmax.(ms1), markersize=5.0, markeralpha=0.5, label=false)\n",
    "# xlims!(xlims_)\n",
    "# ylims!(mx1[xlims_[1]]-shift, mx1[xlims_[2]]+shift)\n",
    "\n",
    "################################################################################################\n",
    "\n",
    "xlims_ = 1, length(series)\n",
    "switch_line = 52\n",
    "shift = 30.0\n",
    "scatter(series, background_color=:grey95, xlabel=:Day, ylabel=\"reward_tally\", label=\"capr_one_subject\", markershape=:xcross, markersize=2, markeralpha=1.0, color=:black)\n",
    "plot!(mx1, ribbon=sqrt.(vx1), label=false)\n",
    "scatter!(switch_line*ones(length(ms1)), color=argmax.(ms1), markersize=5.0, markeralpha=0.5, label=false)\n",
    "xlims!(xlims_)\n",
    "ylims!(mx1[xlims_[1]]-shift, mx1[xlims_[2]]+shift)\n"
   ]
  },
  {
   "cell_type": "code",
   "execution_count": null,
   "metadata": {},
   "outputs": [],
   "source": []
  }
 ],
 "metadata": {
  "kernelspec": {
   "display_name": "Julia 1.9.3",
   "language": "julia",
   "name": "julia-1.9"
  },
  "language_info": {
   "file_extension": ".jl",
   "mimetype": "application/julia",
   "name": "julia",
   "version": "1.9.3"
  }
 },
 "nbformat": 4,
 "nbformat_minor": 4
}
